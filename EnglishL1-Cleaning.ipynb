{
 "cells": [
  {
   "cell_type": "markdown",
   "metadata": {},
   "source": [
    "# Training data - EnglishL1-Cleaning"
   ]
  },
  {
   "cell_type": "code",
   "execution_count": 1,
   "metadata": {},
   "outputs": [],
   "source": [
    "import re\n",
    "import pickle"
   ]
  },
  {
   "cell_type": "code",
   "execution_count": 2,
   "metadata": {},
   "outputs": [],
   "source": [
    "with open('SentencesEnglish.txt', 'r') as f:\n",
    "        text_data_english = f.readlines()"
   ]
  },
  {
   "cell_type": "code",
   "execution_count": 3,
   "metadata": {
    "scrolled": true
   },
   "outputs": [
    {
     "data": {
      "text/plain": [
       "['det:dem|that adj|big n|machine pro:rel|that pro:sub|we v|see&PAST  adv|out prep|on det:art|the n|street .\\n',\n",
       " '\\n',\n",
       " 'pro:int|what post|else aux|be&3S prep|in n|here ?\\n',\n",
       " '\\n',\n",
       " 'pro:int|what post|else aux|be&3S prep|in det:art|the n|book ?\\n',\n",
       " '\\n',\n",
       " 'prep|for n:gerund|cook-PRESP pro:indef|something ?\\n',\n",
       " '\\n',\n",
       " 'mod|can pro:per|you v|cook pro:indef|something prep|in det:art|the  n|pan ?\\n',\n",
       " '\\n']"
      ]
     },
     "execution_count": 3,
     "metadata": {},
     "output_type": "execute_result"
    }
   ],
   "source": [
    "text_data_english[:10]"
   ]
  },
  {
   "cell_type": "markdown",
   "metadata": {},
   "source": [
    "### Task 1\n",
    "Identify all preposition in the sentence"
   ]
  },
  {
   "cell_type": "code",
   "execution_count": 4,
   "metadata": {},
   "outputs": [],
   "source": [
    "prepositions = []\n",
    "for sentence in text_data_english:\n",
    "    for word in sentence.split():\n",
    "        if word.startswith('prep|'):\n",
    "            prepositions.append(word[5:])"
   ]
  },
  {
   "cell_type": "code",
   "execution_count": 5,
   "metadata": {},
   "outputs": [
    {
     "data": {
      "text/plain": [
       "['on', 'in', 'in', 'for', 'in', 'with', 'at', 'with', 'with', 'on']"
      ]
     },
     "execution_count": 5,
     "metadata": {},
     "output_type": "execute_result"
    }
   ],
   "source": [
    "prepositions[:10]"
   ]
  },
  {
   "cell_type": "markdown",
   "metadata": {},
   "source": [
    "### Task 2\n",
    "Extract the individual words from the sentence using the delimiters ‘ ‘, and ‘ ’."
   ]
  },
  {
   "cell_type": "code",
   "execution_count": 6,
   "metadata": {},
   "outputs": [],
   "source": [
    "text_data_english_split = [sentence.split() for sentence in text_data_english if sentence.split() != []]"
   ]
  },
  {
   "cell_type": "code",
   "execution_count": 7,
   "metadata": {},
   "outputs": [
    {
     "data": {
      "text/plain": [
       "[['det:dem|that',\n",
       "  'adj|big',\n",
       "  'n|machine',\n",
       "  'pro:rel|that',\n",
       "  'pro:sub|we',\n",
       "  'v|see&PAST',\n",
       "  'adv|out',\n",
       "  'prep|on',\n",
       "  'det:art|the',\n",
       "  'n|street',\n",
       "  '.'],\n",
       " ['pro:int|what', 'post|else', 'aux|be&3S', 'prep|in', 'n|here', '?'],\n",
       " ['pro:int|what',\n",
       "  'post|else',\n",
       "  'aux|be&3S',\n",
       "  'prep|in',\n",
       "  'det:art|the',\n",
       "  'n|book',\n",
       "  '?'],\n",
       " ['prep|for', 'n:gerund|cook-PRESP', 'pro:indef|something', '?'],\n",
       " ['mod|can',\n",
       "  'pro:per|you',\n",
       "  'v|cook',\n",
       "  'pro:indef|something',\n",
       "  'prep|in',\n",
       "  'det:art|the',\n",
       "  'n|pan',\n",
       "  '?'],\n",
       " ['n|dinosaur', 'prep|with', 'det:art|a', 'adj|long', 'n|tail', '.'],\n",
       " ['v|look', 'prep|at', 'det:poss|his', 'n|toe-PL', '.'],\n",
       " ['n:prop|Emma',\n",
       "  'cm|cm',\n",
       "  'co|hey',\n",
       "  'pro:int|what~aux|be&3S',\n",
       "  'prep|with',\n",
       "  'pro:dem|that',\n",
       "  '?'],\n",
       " ['prep|with',\n",
       "  'det:art|a',\n",
       "  'adj|big',\n",
       "  'n|scoop',\n",
       "  'prep|on',\n",
       "  'det:art|the',\n",
       "  'n|front',\n",
       "  '.'],\n",
       " ['prep|with',\n",
       "  'det:art|a',\n",
       "  'adj|big',\n",
       "  'n|scoop',\n",
       "  'prep|on',\n",
       "  'det:art|the',\n",
       "  'n|front',\n",
       "  '.']]"
      ]
     },
     "execution_count": 7,
     "metadata": {},
     "output_type": "execute_result"
    }
   ],
   "source": [
    "text_data_english_split[:10]"
   ]
  },
  {
   "cell_type": "markdown",
   "metadata": {},
   "source": [
    "### Task 3\n",
    "From the list of extracted words, remove words with any of the following parts-of-speech:\n",
    "‘pro:rel’, ‘co’, ‘det:art’, ‘det:poss’, ‘neg’, ‘aux’, ‘mod’, ‘cop’, ‘cl’, and ‘cm’ (Think why this\n",
    "tags are not helpful in training)\n",
    "\n",
    "- These tags represent words that lie in the category called Stop Words, and they are a set of commonly used words in a language. The intuition behind removing stop words is that, we are removing low information words from text, thus we can focus on the important words instead."
   ]
  },
  {
   "cell_type": "code",
   "execution_count": 8,
   "metadata": {},
   "outputs": [],
   "source": [
    "# Removing ~ symbol from words that are in this format pro:int|what~aux|be&3S \n",
    "for sentence in range(len(text_data_english_split)):\n",
    "    for word in text_data_english_split[sentence]:\n",
    "        if '~' in word:\n",
    "            pos = text_data_english_split[sentence].index(word)\n",
    "            word_split = word.split('~')\n",
    "            for i in range(len(word_split)):\n",
    "                text_data_english_split[sentence].insert(pos+i, word_split[i])\n",
    "            text_data_english_split[sentence].remove(word)"
   ]
  },
  {
   "cell_type": "code",
   "execution_count": 9,
   "metadata": {},
   "outputs": [
    {
     "data": {
      "text/plain": [
       "[['det:dem|that',\n",
       "  'adj|big',\n",
       "  'n|machine',\n",
       "  'pro:rel|that',\n",
       "  'pro:sub|we',\n",
       "  'v|see&PAST',\n",
       "  'adv|out',\n",
       "  'prep|on',\n",
       "  'det:art|the',\n",
       "  'n|street',\n",
       "  '.'],\n",
       " ['pro:int|what', 'post|else', 'aux|be&3S', 'prep|in', 'n|here', '?'],\n",
       " ['pro:int|what',\n",
       "  'post|else',\n",
       "  'aux|be&3S',\n",
       "  'prep|in',\n",
       "  'det:art|the',\n",
       "  'n|book',\n",
       "  '?'],\n",
       " ['prep|for', 'n:gerund|cook-PRESP', 'pro:indef|something', '?'],\n",
       " ['mod|can',\n",
       "  'pro:per|you',\n",
       "  'v|cook',\n",
       "  'pro:indef|something',\n",
       "  'prep|in',\n",
       "  'det:art|the',\n",
       "  'n|pan',\n",
       "  '?'],\n",
       " ['n|dinosaur', 'prep|with', 'det:art|a', 'adj|long', 'n|tail', '.'],\n",
       " ['v|look', 'prep|at', 'det:poss|his', 'n|toe-PL', '.'],\n",
       " ['n:prop|Emma',\n",
       "  'cm|cm',\n",
       "  'co|hey',\n",
       "  'pro:int|what',\n",
       "  'aux|be&3S',\n",
       "  'prep|with',\n",
       "  'pro:dem|that',\n",
       "  '?'],\n",
       " ['prep|with',\n",
       "  'det:art|a',\n",
       "  'adj|big',\n",
       "  'n|scoop',\n",
       "  'prep|on',\n",
       "  'det:art|the',\n",
       "  'n|front',\n",
       "  '.'],\n",
       " ['prep|with',\n",
       "  'det:art|a',\n",
       "  'adj|big',\n",
       "  'n|scoop',\n",
       "  'prep|on',\n",
       "  'det:art|the',\n",
       "  'n|front',\n",
       "  '.']]"
      ]
     },
     "execution_count": 9,
     "metadata": {},
     "output_type": "execute_result"
    }
   ],
   "source": [
    "text_data_english_split[:10]"
   ]
  },
  {
   "cell_type": "code",
   "execution_count": 10,
   "metadata": {},
   "outputs": [],
   "source": [
    "stop_words = ('pro:rel', 'co', 'det:art', 'det:poss', 'neg', 'aux', 'mod', 'cop', 'cl', 'cm')"
   ]
  },
  {
   "cell_type": "code",
   "execution_count": 11,
   "metadata": {},
   "outputs": [],
   "source": [
    "for sentence in range(len(text_data_english_split)):\n",
    "    for word in text_data_english_split[sentence]:\n",
    "        if word.startswith(stop_words):\n",
    "            text_data_english_split[sentence].remove(word)"
   ]
  },
  {
   "cell_type": "code",
   "execution_count": 12,
   "metadata": {
    "scrolled": true
   },
   "outputs": [
    {
     "data": {
      "text/plain": [
       "[['det:dem|that',\n",
       "  'adj|big',\n",
       "  'n|machine',\n",
       "  'pro:sub|we',\n",
       "  'v|see&PAST',\n",
       "  'adv|out',\n",
       "  'prep|on',\n",
       "  'n|street',\n",
       "  '.'],\n",
       " ['pro:int|what', 'post|else', 'prep|in', 'n|here', '?'],\n",
       " ['pro:int|what', 'post|else', 'prep|in', 'n|book', '?'],\n",
       " ['prep|for', 'n:gerund|cook-PRESP', 'pro:indef|something', '?'],\n",
       " ['pro:per|you', 'v|cook', 'pro:indef|something', 'prep|in', 'n|pan', '?'],\n",
       " ['n|dinosaur', 'prep|with', 'adj|long', 'n|tail', '.'],\n",
       " ['v|look', 'prep|at', 'n|toe-PL', '.'],\n",
       " ['n:prop|Emma', 'co|hey', 'pro:int|what', 'prep|with', 'pro:dem|that', '?'],\n",
       " ['prep|with', 'adj|big', 'n|scoop', 'prep|on', 'n|front', '.'],\n",
       " ['prep|with', 'adj|big', 'n|scoop', 'prep|on', 'n|front', '.']]"
      ]
     },
     "execution_count": 12,
     "metadata": {},
     "output_type": "execute_result"
    }
   ],
   "source": [
    "text_data_english_split[:10]"
   ]
  },
  {
   "cell_type": "markdown",
   "metadata": {},
   "source": [
    "### Task 4\n",
    "Clean the words removing the part-of-speech tag, translation, and lexical information.\n",
    "- Remove part-of-speech using the ‘|’ delimiter.\n",
    "- Remove translation (if any) using the ‘=’ delimiter.\n",
    "- Remove lexical information (if any) using ‘&’ or ‘-’ delimiters.\n",
    "- Break into individual words if contains ‘_’."
   ]
  },
  {
   "cell_type": "code",
   "execution_count": 13,
   "metadata": {},
   "outputs": [],
   "source": [
    "# remove any punctuation marks\n",
    "puncs = ['.', '!', '?']\n",
    "for sentence in range(len(text_data_english_split)):\n",
    "    for word in text_data_english_split[sentence]:\n",
    "        if word in puncs:\n",
    "            text_data_english_split[sentence].remove(word)"
   ]
  },
  {
   "cell_type": "code",
   "execution_count": 14,
   "metadata": {},
   "outputs": [],
   "source": [
    "text_data_english_clean = []"
   ]
  },
  {
   "cell_type": "code",
   "execution_count": 15,
   "metadata": {},
   "outputs": [],
   "source": [
    "for sentence in text_data_english_split:\n",
    "    temp_list = []\n",
    "    for word in sentence:\n",
    "        if '|' in word:\n",
    "            word = word.rsplit(\"|\")[1]\n",
    "        if '=' in word:\n",
    "            word = word.rsplit(\"=\")[1]\n",
    "        if '&' in word:\n",
    "            word = word[:word.index('&')]\n",
    "        if '-' in word:\n",
    "            word = word[:word.index('-')]\n",
    "        if '_' in word:\n",
    "            word = ' '.join(word.split('_'))\n",
    "        temp_list.append(word)\n",
    "    text_data_english_clean.append(temp_list)"
   ]
  },
  {
   "cell_type": "code",
   "execution_count": 16,
   "metadata": {},
   "outputs": [
    {
     "data": {
      "text/plain": [
       "[['that', 'big', 'machine', 'we', 'see', 'out', 'on', 'street'],\n",
       " ['what', 'else', 'in', 'here'],\n",
       " ['what', 'else', 'in', 'book'],\n",
       " ['for', 'cook', 'something'],\n",
       " ['you', 'cook', 'something', 'in', 'pan'],\n",
       " ['dinosaur', 'with', 'long', 'tail'],\n",
       " ['look', 'at', 'toe'],\n",
       " ['Emma', 'hey', 'what', 'with', 'that'],\n",
       " ['with', 'big', 'scoop', 'on', 'front'],\n",
       " ['with', 'big', 'scoop', 'on', 'front']]"
      ]
     },
     "execution_count": 16,
     "metadata": {},
     "output_type": "execute_result"
    }
   ],
   "source": [
    "text_data_english_clean[:10]"
   ]
  },
  {
   "cell_type": "markdown",
   "metadata": {},
   "source": [
    "### Task 5\n",
    "For each preposition create a list of the words within a 4 words window of the preposition,\n",
    "without the preposition itself (4 words before and 4 words after the preposition)."
   ]
  },
  {
   "cell_type": "code",
   "execution_count": 17,
   "metadata": {},
   "outputs": [
    {
     "data": {
      "text/plain": [
       "['on', 'in', 'for', 'with', 'at', 'like', 'of', 'to', 'up', 'about']"
      ]
     },
     "execution_count": 17,
     "metadata": {},
     "output_type": "execute_result"
    }
   ],
   "source": [
    "prepositions = list(dict.fromkeys(prepositions))\n",
    "prepositions[:10]"
   ]
  },
  {
   "cell_type": "code",
   "execution_count": 18,
   "metadata": {},
   "outputs": [],
   "source": [
    "text_data_english_clean_final = []\n",
    "preposition_list = []\n",
    "\n",
    "for sentence in range(len(text_data_english_clean)):\n",
    "    for word in text_data_english_clean[sentence]:\n",
    "        if word in prepositions:\n",
    "            left, prep, right = ' '.join(text_data_english_clean[sentence]).partition(word)\n",
    "            l = left.split()\n",
    "            l.reverse()\n",
    "            l = l[:4]\n",
    "            l.reverse()\n",
    "            temp_list = l + right.split()[:4]\n",
    "            text_data_english_clean_final.append(temp_list)\n",
    "            preposition_list.append(prep)"
   ]
  },
  {
   "cell_type": "code",
   "execution_count": 19,
   "metadata": {},
   "outputs": [
    {
     "data": {
      "text/plain": [
       "[['big', 'machine', 'we', 'see', 'on', 'street'],\n",
       " ['machine', 'we', 'see', 'out', 'street'],\n",
       " ['what', 'else', 'here'],\n",
       " ['what', 'else', 'book'],\n",
       " ['cook', 'something'],\n",
       " ['you', 'cook', 'someth', 'g', 'in', 'pan'],\n",
       " ['dinosaur', 'long', 'tail'],\n",
       " ['look', 'toe'],\n",
       " ['Emma', 'hey', 'what', 'that'],\n",
       " ['big', 'scoop', 'on', 'front']]"
      ]
     },
     "execution_count": 19,
     "metadata": {},
     "output_type": "execute_result"
    }
   ],
   "source": [
    "text_data_english_clean_final[:10]"
   ]
  },
  {
   "cell_type": "code",
   "execution_count": 20,
   "metadata": {},
   "outputs": [
    {
     "data": {
      "text/plain": [
       "['out', 'on', 'in', 'in', 'for', 'in', 'with', 'at', 'with', 'with']"
      ]
     },
     "execution_count": 20,
     "metadata": {},
     "output_type": "execute_result"
    }
   ],
   "source": [
    "preposition_list[:10]"
   ]
  },
  {
   "cell_type": "code",
   "execution_count": 21,
   "metadata": {},
   "outputs": [],
   "source": [
    "# save the list\n",
    "with open('EnglishL1-Final.pk', 'wb') as f:\n",
    "    pickle.dump(text_data_english_clean_final, f)\n",
    "    \n",
    "with open('EnglishL1-Prepositions.pk', 'wb') as f:\n",
    "    pickle.dump(preposition_list, f)"
   ]
  },
  {
   "cell_type": "code",
   "execution_count": null,
   "metadata": {},
   "outputs": [],
   "source": []
  }
 ],
 "metadata": {
  "kernelspec": {
   "display_name": "Python 3",
   "language": "python",
   "name": "python3"
  },
  "language_info": {
   "codemirror_mode": {
    "name": "ipython",
    "version": 3
   },
   "file_extension": ".py",
   "mimetype": "text/x-python",
   "name": "python",
   "nbconvert_exporter": "python",
   "pygments_lexer": "ipython3",
   "version": "3.6.9"
  }
 },
 "nbformat": 4,
 "nbformat_minor": 4
}
