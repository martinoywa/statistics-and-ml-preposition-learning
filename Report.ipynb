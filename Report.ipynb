{
 "cells": [
  {
   "cell_type": "code",
   "execution_count": 1,
   "metadata": {},
   "outputs": [],
   "source": [
    "import pandas as pd"
   ]
  },
  {
   "cell_type": "code",
   "execution_count": 16,
   "metadata": {},
   "outputs": [
    {
     "data": {
      "text/html": [
       "<div>\n",
       "<style scoped>\n",
       "    .dataframe tbody tr th:only-of-type {\n",
       "        vertical-align: middle;\n",
       "    }\n",
       "\n",
       "    .dataframe tbody tr th {\n",
       "        vertical-align: top;\n",
       "    }\n",
       "\n",
       "    .dataframe thead th {\n",
       "        text-align: right;\n",
       "    }\n",
       "</style>\n",
       "<table border=\"1\" class=\"dataframe\">\n",
       "  <thead>\n",
       "    <tr style=\"text-align: right;\">\n",
       "      <th></th>\n",
       "      <th>QNumber</th>\n",
       "      <th>Choice</th>\n",
       "      <th>Preposition</th>\n",
       "      <th>Question</th>\n",
       "      <th>FullQ</th>\n",
       "      <th>Particpants</th>\n",
       "      <th>Correct</th>\n",
       "      <th>EnglishL1Model</th>\n",
       "      <th>MandarinL1Model</th>\n",
       "      <th>MandarinEnglishL2Model</th>\n",
       "    </tr>\n",
       "  </thead>\n",
       "  <tbody>\n",
       "    <tr>\n",
       "      <th>0</th>\n",
       "      <td>1</td>\n",
       "      <td>A</td>\n",
       "      <td>on</td>\n",
       "      <td>Now? you don't eat these all ___ once</td>\n",
       "      <td>Now? you don't eat these all on once</td>\n",
       "      <td>0.045455</td>\n",
       "      <td>0</td>\n",
       "      <td>0.274720</td>\n",
       "      <td>0.214543</td>\n",
       "      <td>0.275903</td>\n",
       "    </tr>\n",
       "    <tr>\n",
       "      <th>1</th>\n",
       "      <td>1</td>\n",
       "      <td>B</td>\n",
       "      <td>at</td>\n",
       "      <td>Now? you don't eat these all ___ once</td>\n",
       "      <td>Now? you don't eat these all at once</td>\n",
       "      <td>0.625000</td>\n",
       "      <td>1</td>\n",
       "      <td>0.276695</td>\n",
       "      <td>0.356372</td>\n",
       "      <td>0.283101</td>\n",
       "    </tr>\n",
       "    <tr>\n",
       "      <th>2</th>\n",
       "      <td>1</td>\n",
       "      <td>C</td>\n",
       "      <td>like</td>\n",
       "      <td>Now? you don't eat these all ___ once</td>\n",
       "      <td>Now? you don't eat these all like once</td>\n",
       "      <td>0.193182</td>\n",
       "      <td>0</td>\n",
       "      <td>0.273671</td>\n",
       "      <td>0.214543</td>\n",
       "      <td>0.266302</td>\n",
       "    </tr>\n",
       "    <tr>\n",
       "      <th>3</th>\n",
       "      <td>1</td>\n",
       "      <td>D</td>\n",
       "      <td>as</td>\n",
       "      <td>Now? you don't eat these all ___ once</td>\n",
       "      <td>Now? you don't eat these all as once</td>\n",
       "      <td>0.136364</td>\n",
       "      <td>0</td>\n",
       "      <td>0.174914</td>\n",
       "      <td>0.214543</td>\n",
       "      <td>0.174694</td>\n",
       "    </tr>\n",
       "    <tr>\n",
       "      <th>4</th>\n",
       "      <td>2</td>\n",
       "      <td>A</td>\n",
       "      <td>with</td>\n",
       "      <td>So you're happy ___ your work?</td>\n",
       "      <td>So you're happy with your work?</td>\n",
       "      <td>0.761364</td>\n",
       "      <td>1</td>\n",
       "      <td>0.280310</td>\n",
       "      <td>0.250000</td>\n",
       "      <td>NaN</td>\n",
       "    </tr>\n",
       "  </tbody>\n",
       "</table>\n",
       "</div>"
      ],
      "text/plain": [
       "   QNumber Choice Preposition                                Question  \\\n",
       "0        1      A          on   Now? you don't eat these all ___ once   \n",
       "1        1      B          at   Now? you don't eat these all ___ once   \n",
       "2        1      C        like   Now? you don't eat these all ___ once   \n",
       "3        1      D          as   Now? you don't eat these all ___ once   \n",
       "4        2      A        with          So you're happy ___ your work?   \n",
       "\n",
       "                                     FullQ  Particpants  Correct  \\\n",
       "0     Now? you don't eat these all on once     0.045455        0   \n",
       "1     Now? you don't eat these all at once     0.625000        1   \n",
       "2   Now? you don't eat these all like once     0.193182        0   \n",
       "3     Now? you don't eat these all as once     0.136364        0   \n",
       "4          So you're happy with your work?     0.761364        1   \n",
       "\n",
       "   EnglishL1Model  MandarinL1Model  MandarinEnglishL2Model  \n",
       "0        0.274720         0.214543                0.275903  \n",
       "1        0.276695         0.356372                0.283101  \n",
       "2        0.273671         0.214543                0.266302  \n",
       "3        0.174914         0.214543                0.174694  \n",
       "4        0.280310         0.250000                     NaN  "
      ]
     },
     "execution_count": 16,
     "metadata": {},
     "output_type": "execute_result"
    }
   ],
   "source": [
    "data = pd.read_csv('testData.csv')\n",
    "data.head()"
   ]
  },
  {
   "cell_type": "code",
   "execution_count": 17,
   "metadata": {},
   "outputs": [
    {
     "data": {
      "text/html": [
       "<div>\n",
       "<style scoped>\n",
       "    .dataframe tbody tr th:only-of-type {\n",
       "        vertical-align: middle;\n",
       "    }\n",
       "\n",
       "    .dataframe tbody tr th {\n",
       "        vertical-align: top;\n",
       "    }\n",
       "\n",
       "    .dataframe thead th {\n",
       "        text-align: right;\n",
       "    }\n",
       "</style>\n",
       "<table border=\"1\" class=\"dataframe\">\n",
       "  <thead>\n",
       "    <tr style=\"text-align: right;\">\n",
       "      <th></th>\n",
       "      <th>EnglishL1Model</th>\n",
       "      <th>MandarinL1Model</th>\n",
       "      <th>MandarinEnglishL2Model</th>\n",
       "    </tr>\n",
       "  </thead>\n",
       "  <tbody>\n",
       "    <tr>\n",
       "      <th>0</th>\n",
       "      <td>0.274720</td>\n",
       "      <td>0.214543</td>\n",
       "      <td>0.275903</td>\n",
       "    </tr>\n",
       "    <tr>\n",
       "      <th>1</th>\n",
       "      <td>0.276695</td>\n",
       "      <td>0.356372</td>\n",
       "      <td>0.283101</td>\n",
       "    </tr>\n",
       "    <tr>\n",
       "      <th>2</th>\n",
       "      <td>0.273671</td>\n",
       "      <td>0.214543</td>\n",
       "      <td>0.266302</td>\n",
       "    </tr>\n",
       "    <tr>\n",
       "      <th>3</th>\n",
       "      <td>0.174914</td>\n",
       "      <td>0.214543</td>\n",
       "      <td>0.174694</td>\n",
       "    </tr>\n",
       "    <tr>\n",
       "      <th>4</th>\n",
       "      <td>0.280310</td>\n",
       "      <td>0.250000</td>\n",
       "      <td>NaN</td>\n",
       "    </tr>\n",
       "  </tbody>\n",
       "</table>\n",
       "</div>"
      ],
      "text/plain": [
       "   EnglishL1Model  MandarinL1Model  MandarinEnglishL2Model\n",
       "0        0.274720         0.214543                0.275903\n",
       "1        0.276695         0.356372                0.283101\n",
       "2        0.273671         0.214543                0.266302\n",
       "3        0.174914         0.214543                0.174694\n",
       "4        0.280310         0.250000                     NaN"
      ]
     },
     "execution_count": 17,
     "metadata": {},
     "output_type": "execute_result"
    }
   ],
   "source": [
    "scores = data[['EnglishL1Model', 'MandarinL1Model', 'MandarinEnglishL2Model']]\n",
    "scores.head()"
   ]
  },
  {
   "cell_type": "markdown",
   "metadata": {},
   "source": [
    "### 1. The correlation of the scores with all choices (100 values) "
   ]
  },
  {
   "cell_type": "code",
   "execution_count": 18,
   "metadata": {},
   "outputs": [
    {
     "data": {
      "text/html": [
       "<div>\n",
       "<style scoped>\n",
       "    .dataframe tbody tr th:only-of-type {\n",
       "        vertical-align: middle;\n",
       "    }\n",
       "\n",
       "    .dataframe tbody tr th {\n",
       "        vertical-align: top;\n",
       "    }\n",
       "\n",
       "    .dataframe thead th {\n",
       "        text-align: right;\n",
       "    }\n",
       "</style>\n",
       "<table border=\"1\" class=\"dataframe\">\n",
       "  <thead>\n",
       "    <tr style=\"text-align: right;\">\n",
       "      <th></th>\n",
       "      <th>EnglishL1Model</th>\n",
       "      <th>MandarinL1Model</th>\n",
       "      <th>MandarinEnglishL2Model</th>\n",
       "    </tr>\n",
       "  </thead>\n",
       "  <tbody>\n",
       "    <tr>\n",
       "      <th>EnglishL1Model</th>\n",
       "      <td>1.000000</td>\n",
       "      <td>0.265238</td>\n",
       "      <td>0.985030</td>\n",
       "    </tr>\n",
       "    <tr>\n",
       "      <th>MandarinL1Model</th>\n",
       "      <td>0.265238</td>\n",
       "      <td>1.000000</td>\n",
       "      <td>0.390395</td>\n",
       "    </tr>\n",
       "    <tr>\n",
       "      <th>MandarinEnglishL2Model</th>\n",
       "      <td>0.985030</td>\n",
       "      <td>0.390395</td>\n",
       "      <td>1.000000</td>\n",
       "    </tr>\n",
       "  </tbody>\n",
       "</table>\n",
       "</div>"
      ],
      "text/plain": [
       "                        EnglishL1Model  MandarinL1Model  \\\n",
       "EnglishL1Model                1.000000         0.265238   \n",
       "MandarinL1Model               0.265238         1.000000   \n",
       "MandarinEnglishL2Model        0.985030         0.390395   \n",
       "\n",
       "                        MandarinEnglishL2Model  \n",
       "EnglishL1Model                        0.985030  \n",
       "MandarinL1Model                       0.390395  \n",
       "MandarinEnglishL2Model                1.000000  "
      ]
     },
     "execution_count": 18,
     "metadata": {},
     "output_type": "execute_result"
    }
   ],
   "source": [
    "scores.corr()"
   ]
  },
  {
   "cell_type": "markdown",
   "metadata": {},
   "source": [
    "### 2. The correlation of the scores with the correct choices for each question (25 values)"
   ]
  },
  {
   "cell_type": "code",
   "execution_count": 21,
   "metadata": {},
   "outputs": [
    {
     "data": {
      "text/html": [
       "<div>\n",
       "<style scoped>\n",
       "    .dataframe tbody tr th:only-of-type {\n",
       "        vertical-align: middle;\n",
       "    }\n",
       "\n",
       "    .dataframe tbody tr th {\n",
       "        vertical-align: top;\n",
       "    }\n",
       "\n",
       "    .dataframe thead th {\n",
       "        text-align: right;\n",
       "    }\n",
       "</style>\n",
       "<table border=\"1\" class=\"dataframe\">\n",
       "  <thead>\n",
       "    <tr style=\"text-align: right;\">\n",
       "      <th></th>\n",
       "      <th>EnglishL1Model</th>\n",
       "      <th>MandarinL1Model</th>\n",
       "      <th>MandarinEnglishL2Model</th>\n",
       "    </tr>\n",
       "  </thead>\n",
       "  <tbody>\n",
       "    <tr>\n",
       "      <th>1</th>\n",
       "      <td>0.276695</td>\n",
       "      <td>0.356372</td>\n",
       "      <td>0.283101</td>\n",
       "    </tr>\n",
       "    <tr>\n",
       "      <th>4</th>\n",
       "      <td>0.280310</td>\n",
       "      <td>0.250000</td>\n",
       "      <td>NaN</td>\n",
       "    </tr>\n",
       "    <tr>\n",
       "      <th>11</th>\n",
       "      <td>0.321984</td>\n",
       "      <td>0.250000</td>\n",
       "      <td>0.303868</td>\n",
       "    </tr>\n",
       "    <tr>\n",
       "      <th>14</th>\n",
       "      <td>0.303989</td>\n",
       "      <td>0.250000</td>\n",
       "      <td>NaN</td>\n",
       "    </tr>\n",
       "    <tr>\n",
       "      <th>19</th>\n",
       "      <td>0.303989</td>\n",
       "      <td>0.250000</td>\n",
       "      <td>NaN</td>\n",
       "    </tr>\n",
       "  </tbody>\n",
       "</table>\n",
       "</div>"
      ],
      "text/plain": [
       "    EnglishL1Model  MandarinL1Model  MandarinEnglishL2Model\n",
       "1         0.276695         0.356372                0.283101\n",
       "4         0.280310         0.250000                     NaN\n",
       "11        0.321984         0.250000                0.303868\n",
       "14        0.303989         0.250000                     NaN\n",
       "19        0.303989         0.250000                     NaN"
      ]
     },
     "execution_count": 21,
     "metadata": {},
     "output_type": "execute_result"
    }
   ],
   "source": [
    "scores_correct = data.loc[data['Correct'] == 1][['EnglishL1Model', 'MandarinL1Model', 'MandarinEnglishL2Model']]\n",
    "scores_correct.head()"
   ]
  },
  {
   "cell_type": "code",
   "execution_count": 22,
   "metadata": {},
   "outputs": [
    {
     "data": {
      "text/html": [
       "<div>\n",
       "<style scoped>\n",
       "    .dataframe tbody tr th:only-of-type {\n",
       "        vertical-align: middle;\n",
       "    }\n",
       "\n",
       "    .dataframe tbody tr th {\n",
       "        vertical-align: top;\n",
       "    }\n",
       "\n",
       "    .dataframe thead th {\n",
       "        text-align: right;\n",
       "    }\n",
       "</style>\n",
       "<table border=\"1\" class=\"dataframe\">\n",
       "  <thead>\n",
       "    <tr style=\"text-align: right;\">\n",
       "      <th></th>\n",
       "      <th>EnglishL1Model</th>\n",
       "      <th>MandarinL1Model</th>\n",
       "      <th>MandarinEnglishL2Model</th>\n",
       "    </tr>\n",
       "  </thead>\n",
       "  <tbody>\n",
       "    <tr>\n",
       "      <th>EnglishL1Model</th>\n",
       "      <td>1.000000</td>\n",
       "      <td>0.272184</td>\n",
       "      <td>0.976039</td>\n",
       "    </tr>\n",
       "    <tr>\n",
       "      <th>MandarinL1Model</th>\n",
       "      <td>0.272184</td>\n",
       "      <td>1.000000</td>\n",
       "      <td>0.445020</td>\n",
       "    </tr>\n",
       "    <tr>\n",
       "      <th>MandarinEnglishL2Model</th>\n",
       "      <td>0.976039</td>\n",
       "      <td>0.445020</td>\n",
       "      <td>1.000000</td>\n",
       "    </tr>\n",
       "  </tbody>\n",
       "</table>\n",
       "</div>"
      ],
      "text/plain": [
       "                        EnglishL1Model  MandarinL1Model  \\\n",
       "EnglishL1Model                1.000000         0.272184   \n",
       "MandarinL1Model               0.272184         1.000000   \n",
       "MandarinEnglishL2Model        0.976039         0.445020   \n",
       "\n",
       "                        MandarinEnglishL2Model  \n",
       "EnglishL1Model                        0.976039  \n",
       "MandarinL1Model                       0.445020  \n",
       "MandarinEnglishL2Model                1.000000  "
      ]
     },
     "execution_count": 22,
     "metadata": {},
     "output_type": "execute_result"
    }
   ],
   "source": [
    "scores_correct.corr()"
   ]
  },
  {
   "cell_type": "markdown",
   "metadata": {},
   "source": [
    "### 3. The correlation of the scores with the top choice for each question (the choice made by most of the participants)"
   ]
  },
  {
   "cell_type": "code",
   "execution_count": 39,
   "metadata": {},
   "outputs": [],
   "source": [
    "top_choices_rows = [1, 7, 10, 13, 18, 20, 26, 29, 32, 39, 42, 46, 49, 55, 58, 63, 66, 70, 73, 78, 80, 87, 89, 93, 98]"
   ]
  },
  {
   "cell_type": "code",
   "execution_count": 42,
   "metadata": {},
   "outputs": [
    {
     "data": {
      "text/html": [
       "<div>\n",
       "<style scoped>\n",
       "    .dataframe tbody tr th:only-of-type {\n",
       "        vertical-align: middle;\n",
       "    }\n",
       "\n",
       "    .dataframe tbody tr th {\n",
       "        vertical-align: top;\n",
       "    }\n",
       "\n",
       "    .dataframe thead th {\n",
       "        text-align: right;\n",
       "    }\n",
       "</style>\n",
       "<table border=\"1\" class=\"dataframe\">\n",
       "  <thead>\n",
       "    <tr style=\"text-align: right;\">\n",
       "      <th></th>\n",
       "      <th>EnglishL1Model</th>\n",
       "      <th>MandarinL1Model</th>\n",
       "      <th>MandarinEnglishL2Model</th>\n",
       "    </tr>\n",
       "  </thead>\n",
       "  <tbody>\n",
       "    <tr>\n",
       "      <th>1</th>\n",
       "      <td>0.276695</td>\n",
       "      <td>0.356372</td>\n",
       "      <td>0.283101</td>\n",
       "    </tr>\n",
       "    <tr>\n",
       "      <th>7</th>\n",
       "      <td>0.272366</td>\n",
       "      <td>0.250000</td>\n",
       "      <td>NaN</td>\n",
       "    </tr>\n",
       "    <tr>\n",
       "      <th>10</th>\n",
       "      <td>0.189888</td>\n",
       "      <td>0.250000</td>\n",
       "      <td>0.194485</td>\n",
       "    </tr>\n",
       "    <tr>\n",
       "      <th>13</th>\n",
       "      <td>0.192459</td>\n",
       "      <td>0.250000</td>\n",
       "      <td>NaN</td>\n",
       "    </tr>\n",
       "    <tr>\n",
       "      <th>18</th>\n",
       "      <td>0.192459</td>\n",
       "      <td>0.250000</td>\n",
       "      <td>NaN</td>\n",
       "    </tr>\n",
       "  </tbody>\n",
       "</table>\n",
       "</div>"
      ],
      "text/plain": [
       "    EnglishL1Model  MandarinL1Model  MandarinEnglishL2Model\n",
       "1         0.276695         0.356372                0.283101\n",
       "7         0.272366         0.250000                     NaN\n",
       "10        0.189888         0.250000                0.194485\n",
       "13        0.192459         0.250000                     NaN\n",
       "18        0.192459         0.250000                     NaN"
      ]
     },
     "execution_count": 42,
     "metadata": {},
     "output_type": "execute_result"
    }
   ],
   "source": [
    "scores_top_choice = data.iloc[top_choices_rows][['EnglishL1Model', 'MandarinL1Model', 'MandarinEnglishL2Model']]\n",
    "scores_top_choice.head()"
   ]
  },
  {
   "cell_type": "code",
   "execution_count": 43,
   "metadata": {},
   "outputs": [
    {
     "data": {
      "text/html": [
       "<div>\n",
       "<style scoped>\n",
       "    .dataframe tbody tr th:only-of-type {\n",
       "        vertical-align: middle;\n",
       "    }\n",
       "\n",
       "    .dataframe tbody tr th {\n",
       "        vertical-align: top;\n",
       "    }\n",
       "\n",
       "    .dataframe thead th {\n",
       "        text-align: right;\n",
       "    }\n",
       "</style>\n",
       "<table border=\"1\" class=\"dataframe\">\n",
       "  <thead>\n",
       "    <tr style=\"text-align: right;\">\n",
       "      <th></th>\n",
       "      <th>EnglishL1Model</th>\n",
       "      <th>MandarinL1Model</th>\n",
       "      <th>MandarinEnglishL2Model</th>\n",
       "    </tr>\n",
       "  </thead>\n",
       "  <tbody>\n",
       "    <tr>\n",
       "      <th>EnglishL1Model</th>\n",
       "      <td>1.000000</td>\n",
       "      <td>0.290142</td>\n",
       "      <td>0.974440</td>\n",
       "    </tr>\n",
       "    <tr>\n",
       "      <th>MandarinL1Model</th>\n",
       "      <td>0.290142</td>\n",
       "      <td>1.000000</td>\n",
       "      <td>0.404677</td>\n",
       "    </tr>\n",
       "    <tr>\n",
       "      <th>MandarinEnglishL2Model</th>\n",
       "      <td>0.974440</td>\n",
       "      <td>0.404677</td>\n",
       "      <td>1.000000</td>\n",
       "    </tr>\n",
       "  </tbody>\n",
       "</table>\n",
       "</div>"
      ],
      "text/plain": [
       "                        EnglishL1Model  MandarinL1Model  \\\n",
       "EnglishL1Model                1.000000         0.290142   \n",
       "MandarinL1Model               0.290142         1.000000   \n",
       "MandarinEnglishL2Model        0.974440         0.404677   \n",
       "\n",
       "                        MandarinEnglishL2Model  \n",
       "EnglishL1Model                        0.974440  \n",
       "MandarinL1Model                       0.404677  \n",
       "MandarinEnglishL2Model                1.000000  "
      ]
     },
     "execution_count": 43,
     "metadata": {},
     "output_type": "execute_result"
    }
   ],
   "source": [
    "scores_top_choice.corr()"
   ]
  },
  {
   "cell_type": "markdown",
   "metadata": {},
   "source": [
    "# Analysis"
   ]
  },
  {
   "cell_type": "markdown",
   "metadata": {},
   "source": [
    "- Based of the Pearson's correlation results above, the English Model's predictions are more correlated to the Mandrin English Model's predictions, and less to the Mandarin Model's predictions.\n",
    "- Based on the data cleaning, words falling under ADV, CONJ, DET, and POS were not used to represent sentences.\n",
    "- Some of the words prepositions such at for the statements 1 and 23, and with statement 2, were top choices of the model and were the correct choices.\n",
    "- The English Model predicted correctly by approximately 60% the top choice of the model which was also the top correct choice by the participants."
   ]
  },
  {
   "cell_type": "markdown",
   "metadata": {},
   "source": [
    "**Opinions**\n",
    "- The advantages of this modelling approach is that it is a faster and easier way of doing an NLP task since it uses some sort of transfere learning of the word embeddings.\n",
    "- It also allows the modeler to have more control over how the learning is done, compared to when using a Deep Learning approach. This might also be a disadvantage because you spend alot of time doing the data cleaning plus modelling.\n",
    "- I also found the correlations section a little bit biased because, even from judging from the results, the Mandarin Model was definitely going to be less correlated to the English model, while the Mandaring English model more, because we used some English data for its vectors.\n",
    "- All in all, it's a better approach if your aim is learning how to do most of the work by hand."
   ]
  },
  {
   "cell_type": "code",
   "execution_count": null,
   "metadata": {},
   "outputs": [],
   "source": []
  }
 ],
 "metadata": {
  "kernelspec": {
   "display_name": "Python 3",
   "language": "python",
   "name": "python3"
  },
  "language_info": {
   "codemirror_mode": {
    "name": "ipython",
    "version": 3
   },
   "file_extension": ".py",
   "mimetype": "text/x-python",
   "name": "python",
   "nbconvert_exporter": "python",
   "pygments_lexer": "ipython3",
   "version": "3.6.9"
  }
 },
 "nbformat": 4,
 "nbformat_minor": 4
}
