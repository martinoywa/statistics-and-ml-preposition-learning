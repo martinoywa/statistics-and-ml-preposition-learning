{
 "cells": [
  {
   "cell_type": "markdown",
   "metadata": {},
   "source": [
    "# Training data - Mandarin-L1-Cleaning"
   ]
  },
  {
   "cell_type": "code",
   "execution_count": 1,
   "metadata": {},
   "outputs": [],
   "source": [
    "import re\n",
    "import pickle"
   ]
  },
  {
   "cell_type": "code",
   "execution_count": 2,
   "metadata": {},
   "outputs": [],
   "source": [
    "with open('SentencesMandarin.txt', 'r') as f:\n",
    "        text_data_mandarin = f.readlines()"
   ]
  },
  {
   "cell_type": "code",
   "execution_count": 3,
   "metadata": {},
   "outputs": [
    {
     "data": {
      "text/plain": [
       "['adv|zai4=again prep|ba3=object_marker n:relat|ma1&DIM=mother  poss|de v|jiang3=speak adv|yi1bian4=again .\\n',\n",
       " '\\n',\n",
       " 'n|gong1ju4=tool prep|zai4=at pro:wh|na3=which n|bian1=side sfp|a1 ?\\n',\n",
       " '\\n',\n",
       " 'n:name|xiao2xiao3=little_little adj|da4=great n|er2=kid  prep|ba3=object_marker n|men2=door v:resc|kai1=open .\\n',\n",
       " '\\n',\n",
       " 'adj|xiao3=small adj|xiao3=small adj|da4=great n|er2=kid  prep|ba3=object_marker n|men2=door v:resc|kai1=open cm|cm  v:resc|kai1=open v:dirc|chu1=go_out num|yi1=one adv|zhi3=only  adj|xiao3=small n|jin1=gold n|men2=door cm|cm  adv|ma3shang4=immediately v|bian4cheng2=become adj|pang4=fat  co|he1&DIM=ah cm|cm n|di2=flute n|di2=flute n|di2=flute v|tiao4=jump  v|qi3lai=stand_up .\\n',\n",
       " '\\n',\n",
       " 'pro|wo3=I poss|de adj|hao3=good n:relat|ma1&DIM=mother  v|xia4ban1=get_off v:dirc|hui2=back prep|dao4=up_until n|jia1=family  cm|cm v|lao2dong4=work asp|le num|yi1=one cl|tian1 adv|duo2me=how  v|xin1ku3=cause_hardship asp|le cm|cm n:relat|ma1&DIM=mother  adv|kuai4=quickly v|zuo4=sit v:dirc|xia4=go_down cm|cm  n:relat|ma1&DIM=mother adv|kuai4=quickly v|zuo4=sit  v:dirc|xia4=go_down cm|cm v|qing3=request v|he1=drink num|yi1=one  cl|bei1=container n|cha2=tea cm|cm v|rang4=allow pro|wo3=I  v|qin1&DIM=kiss pro|ni3=you sfp|ba cm|cm v|rang4=allow pro|wo3=I  v|qin1&DIM=kiss pro|ni3=you sfp|ba pro|wo3=I poss|de adj|hao3=good  n:relat|ma1&DIM=mother .\\n',\n",
       " '\\n']"
      ]
     },
     "execution_count": 3,
     "metadata": {},
     "output_type": "execute_result"
    }
   ],
   "source": [
    "text_data_mandarin[:10]"
   ]
  },
  {
   "cell_type": "markdown",
   "metadata": {},
   "source": [
    "### Task 1\n",
    "Identify all preposition in the sentence"
   ]
  },
  {
   "cell_type": "code",
   "execution_count": 4,
   "metadata": {},
   "outputs": [],
   "source": [
    "prepositions = []\n",
    "for sentence in text_data_mandarin:\n",
    "    for word in sentence.split():\n",
    "        if word.startswith('prep|'):\n",
    "            if '=' in word:\n",
    "                word = word[5:].rsplit('=')[1]\n",
    "            if '_' in word:\n",
    "                word = ' '.join(word.split('_'))\n",
    "            prepositions.append(word)"
   ]
  },
  {
   "cell_type": "code",
   "execution_count": 5,
   "metadata": {},
   "outputs": [
    {
     "data": {
      "text/plain": [
       "['object marker',\n",
       " 'at',\n",
       " 'object marker',\n",
       " 'object marker',\n",
       " 'up until',\n",
       " 'at',\n",
       " 'at',\n",
       " 'at',\n",
       " 'at',\n",
       " 'at']"
      ]
     },
     "execution_count": 5,
     "metadata": {},
     "output_type": "execute_result"
    }
   ],
   "source": [
    "prepositions[:10]"
   ]
  },
  {
   "cell_type": "markdown",
   "metadata": {},
   "source": [
    "### Task 2\n",
    "Extract the individual words from the sentence using the delimiters ‘ ‘, and ‘ ’."
   ]
  },
  {
   "cell_type": "code",
   "execution_count": 6,
   "metadata": {},
   "outputs": [],
   "source": [
    "text_data_mandarin_split = [sentence.split() for sentence in text_data_mandarin if sentence.split() != []]"
   ]
  },
  {
   "cell_type": "code",
   "execution_count": 7,
   "metadata": {},
   "outputs": [
    {
     "data": {
      "text/plain": [
       "[['adv|zai4=again',\n",
       "  'prep|ba3=object_marker',\n",
       "  'n:relat|ma1&DIM=mother',\n",
       "  'poss|de',\n",
       "  'v|jiang3=speak',\n",
       "  'adv|yi1bian4=again',\n",
       "  '.'],\n",
       " ['n|gong1ju4=tool',\n",
       "  'prep|zai4=at',\n",
       "  'pro:wh|na3=which',\n",
       "  'n|bian1=side',\n",
       "  'sfp|a1',\n",
       "  '?'],\n",
       " ['n:name|xiao2xiao3=little_little',\n",
       "  'adj|da4=great',\n",
       "  'n|er2=kid',\n",
       "  'prep|ba3=object_marker',\n",
       "  'n|men2=door',\n",
       "  'v:resc|kai1=open',\n",
       "  '.'],\n",
       " ['adj|xiao3=small',\n",
       "  'adj|xiao3=small',\n",
       "  'adj|da4=great',\n",
       "  'n|er2=kid',\n",
       "  'prep|ba3=object_marker',\n",
       "  'n|men2=door',\n",
       "  'v:resc|kai1=open',\n",
       "  'cm|cm',\n",
       "  'v:resc|kai1=open',\n",
       "  'v:dirc|chu1=go_out',\n",
       "  'num|yi1=one',\n",
       "  'adv|zhi3=only',\n",
       "  'adj|xiao3=small',\n",
       "  'n|jin1=gold',\n",
       "  'n|men2=door',\n",
       "  'cm|cm',\n",
       "  'adv|ma3shang4=immediately',\n",
       "  'v|bian4cheng2=become',\n",
       "  'adj|pang4=fat',\n",
       "  'co|he1&DIM=ah',\n",
       "  'cm|cm',\n",
       "  'n|di2=flute',\n",
       "  'n|di2=flute',\n",
       "  'n|di2=flute',\n",
       "  'v|tiao4=jump',\n",
       "  'v|qi3lai=stand_up',\n",
       "  '.'],\n",
       " ['pro|wo3=I',\n",
       "  'poss|de',\n",
       "  'adj|hao3=good',\n",
       "  'n:relat|ma1&DIM=mother',\n",
       "  'v|xia4ban1=get_off',\n",
       "  'v:dirc|hui2=back',\n",
       "  'prep|dao4=up_until',\n",
       "  'n|jia1=family',\n",
       "  'cm|cm',\n",
       "  'v|lao2dong4=work',\n",
       "  'asp|le',\n",
       "  'num|yi1=one',\n",
       "  'cl|tian1',\n",
       "  'adv|duo2me=how',\n",
       "  'v|xin1ku3=cause_hardship',\n",
       "  'asp|le',\n",
       "  'cm|cm',\n",
       "  'n:relat|ma1&DIM=mother',\n",
       "  'adv|kuai4=quickly',\n",
       "  'v|zuo4=sit',\n",
       "  'v:dirc|xia4=go_down',\n",
       "  'cm|cm',\n",
       "  'n:relat|ma1&DIM=mother',\n",
       "  'adv|kuai4=quickly',\n",
       "  'v|zuo4=sit',\n",
       "  'v:dirc|xia4=go_down',\n",
       "  'cm|cm',\n",
       "  'v|qing3=request',\n",
       "  'v|he1=drink',\n",
       "  'num|yi1=one',\n",
       "  'cl|bei1=container',\n",
       "  'n|cha2=tea',\n",
       "  'cm|cm',\n",
       "  'v|rang4=allow',\n",
       "  'pro|wo3=I',\n",
       "  'v|qin1&DIM=kiss',\n",
       "  'pro|ni3=you',\n",
       "  'sfp|ba',\n",
       "  'cm|cm',\n",
       "  'v|rang4=allow',\n",
       "  'pro|wo3=I',\n",
       "  'v|qin1&DIM=kiss',\n",
       "  'pro|ni3=you',\n",
       "  'sfp|ba',\n",
       "  'pro|wo3=I',\n",
       "  'poss|de',\n",
       "  'adj|hao3=good',\n",
       "  'n:relat|ma1&DIM=mother',\n",
       "  '.'],\n",
       " ['n|gong1ju4=tool', 'prep|zai4=at', 'pro:wh|na3-DIA=which', 'sfp|ne', '?'],\n",
       " ['co|o1=chant',\n",
       "  'adv|yuan2lai2=originally',\n",
       "  'prep|zai4=at',\n",
       "  'post|zhe4li3=here',\n",
       "  '.'],\n",
       " ['adv|yuan2lai2=originally',\n",
       "  'prep|zai4=at',\n",
       "  'post|zhe4li3=here',\n",
       "  'sfp|a1',\n",
       "  '.'],\n",
       " ['adv|yuan2lai2=originally',\n",
       "  'prep|zai4=at',\n",
       "  'post|zhe4li3=here',\n",
       "  'sfp|a1',\n",
       "  '.'],\n",
       " ['pro|zhe4ge4=this',\n",
       "  'n|ping2guo3=apple',\n",
       "  'v:cop|shi4=is',\n",
       "  'prep|zai4=at',\n",
       "  'post|zhe4&DIA=here',\n",
       "  'sfp|ma',\n",
       "  '?']]"
      ]
     },
     "execution_count": 7,
     "metadata": {},
     "output_type": "execute_result"
    }
   ],
   "source": [
    "text_data_mandarin_split[:10]"
   ]
  },
  {
   "cell_type": "markdown",
   "metadata": {},
   "source": [
    "### Task 3\n",
    "From the list of extracted words, remove words with any of the following parts-of-speech:\n",
    "‘pro:rel’, ‘co’, ‘det:art’, ‘det:poss’, ‘neg’, ‘aux’, ‘mod’, ‘cop’, ‘cl’, and ‘cm’."
   ]
  },
  {
   "cell_type": "code",
   "execution_count": 8,
   "metadata": {},
   "outputs": [],
   "source": [
    "stop_words = ('pro:rel', 'co', 'det:art', 'det:poss', 'neg', 'aux', 'mod', 'cop', 'cl', 'cm')"
   ]
  },
  {
   "cell_type": "code",
   "execution_count": 9,
   "metadata": {},
   "outputs": [],
   "source": [
    "for sentence in range(len(text_data_mandarin_split)):\n",
    "    for word in text_data_mandarin_split[sentence]:\n",
    "        if word.startswith(stop_words):\n",
    "            text_data_mandarin_split[sentence].remove(word)"
   ]
  },
  {
   "cell_type": "code",
   "execution_count": 10,
   "metadata": {},
   "outputs": [
    {
     "data": {
      "text/plain": [
       "[['adv|zai4=again',\n",
       "  'prep|ba3=object_marker',\n",
       "  'n:relat|ma1&DIM=mother',\n",
       "  'poss|de',\n",
       "  'v|jiang3=speak',\n",
       "  'adv|yi1bian4=again',\n",
       "  '.'],\n",
       " ['n|gong1ju4=tool',\n",
       "  'prep|zai4=at',\n",
       "  'pro:wh|na3=which',\n",
       "  'n|bian1=side',\n",
       "  'sfp|a1',\n",
       "  '?'],\n",
       " ['n:name|xiao2xiao3=little_little',\n",
       "  'adj|da4=great',\n",
       "  'n|er2=kid',\n",
       "  'prep|ba3=object_marker',\n",
       "  'n|men2=door',\n",
       "  'v:resc|kai1=open',\n",
       "  '.'],\n",
       " ['adj|xiao3=small',\n",
       "  'adj|xiao3=small',\n",
       "  'adj|da4=great',\n",
       "  'n|er2=kid',\n",
       "  'prep|ba3=object_marker',\n",
       "  'n|men2=door',\n",
       "  'v:resc|kai1=open',\n",
       "  'v:resc|kai1=open',\n",
       "  'v:dirc|chu1=go_out',\n",
       "  'num|yi1=one',\n",
       "  'adv|zhi3=only',\n",
       "  'adj|xiao3=small',\n",
       "  'n|jin1=gold',\n",
       "  'n|men2=door',\n",
       "  'adv|ma3shang4=immediately',\n",
       "  'v|bian4cheng2=become',\n",
       "  'adj|pang4=fat',\n",
       "  'cm|cm',\n",
       "  'n|di2=flute',\n",
       "  'n|di2=flute',\n",
       "  'n|di2=flute',\n",
       "  'v|tiao4=jump',\n",
       "  'v|qi3lai=stand_up',\n",
       "  '.'],\n",
       " ['pro|wo3=I',\n",
       "  'poss|de',\n",
       "  'adj|hao3=good',\n",
       "  'n:relat|ma1&DIM=mother',\n",
       "  'v|xia4ban1=get_off',\n",
       "  'v:dirc|hui2=back',\n",
       "  'prep|dao4=up_until',\n",
       "  'n|jia1=family',\n",
       "  'v|lao2dong4=work',\n",
       "  'asp|le',\n",
       "  'num|yi1=one',\n",
       "  'adv|duo2me=how',\n",
       "  'v|xin1ku3=cause_hardship',\n",
       "  'asp|le',\n",
       "  'n:relat|ma1&DIM=mother',\n",
       "  'adv|kuai4=quickly',\n",
       "  'v|zuo4=sit',\n",
       "  'v:dirc|xia4=go_down',\n",
       "  'n:relat|ma1&DIM=mother',\n",
       "  'adv|kuai4=quickly',\n",
       "  'v|zuo4=sit',\n",
       "  'v:dirc|xia4=go_down',\n",
       "  'v|qing3=request',\n",
       "  'v|he1=drink',\n",
       "  'num|yi1=one',\n",
       "  'n|cha2=tea',\n",
       "  'v|rang4=allow',\n",
       "  'pro|wo3=I',\n",
       "  'v|qin1&DIM=kiss',\n",
       "  'pro|ni3=you',\n",
       "  'sfp|ba',\n",
       "  'v|rang4=allow',\n",
       "  'pro|wo3=I',\n",
       "  'v|qin1&DIM=kiss',\n",
       "  'pro|ni3=you',\n",
       "  'sfp|ba',\n",
       "  'pro|wo3=I',\n",
       "  'poss|de',\n",
       "  'adj|hao3=good',\n",
       "  'n:relat|ma1&DIM=mother',\n",
       "  '.'],\n",
       " ['n|gong1ju4=tool', 'prep|zai4=at', 'pro:wh|na3-DIA=which', 'sfp|ne', '?'],\n",
       " ['adv|yuan2lai2=originally', 'prep|zai4=at', 'post|zhe4li3=here', '.'],\n",
       " ['adv|yuan2lai2=originally',\n",
       "  'prep|zai4=at',\n",
       "  'post|zhe4li3=here',\n",
       "  'sfp|a1',\n",
       "  '.'],\n",
       " ['adv|yuan2lai2=originally',\n",
       "  'prep|zai4=at',\n",
       "  'post|zhe4li3=here',\n",
       "  'sfp|a1',\n",
       "  '.'],\n",
       " ['pro|zhe4ge4=this',\n",
       "  'n|ping2guo3=apple',\n",
       "  'v:cop|shi4=is',\n",
       "  'prep|zai4=at',\n",
       "  'post|zhe4&DIA=here',\n",
       "  'sfp|ma',\n",
       "  '?']]"
      ]
     },
     "execution_count": 10,
     "metadata": {},
     "output_type": "execute_result"
    }
   ],
   "source": [
    "text_data_mandarin_split[:10]"
   ]
  },
  {
   "cell_type": "code",
   "execution_count": 11,
   "metadata": {},
   "outputs": [],
   "source": [
    "# remove any punctuation marks\n",
    "puncs = ['.', '!', '?']\n",
    "for sentence in range(len(text_data_mandarin_split)):\n",
    "    for word in text_data_mandarin_split[sentence]:\n",
    "        if word in puncs:\n",
    "            text_data_mandarin_split[sentence].remove(word)"
   ]
  },
  {
   "cell_type": "markdown",
   "metadata": {},
   "source": [
    "### Task 4\n",
    "Clean the words removing the part-of-speech tag, translation, and lexical information.\n",
    "- Remove part-of-speech using the ‘|’ delimiter.\n",
    "- Remove translation (if any) using the ‘=’ delimiter.\n",
    "- Remove lexical information (if any) using ‘&’ or ‘-’ delimiters.\n",
    "- Break into individual words if contains ‘_’."
   ]
  },
  {
   "cell_type": "code",
   "execution_count": 12,
   "metadata": {},
   "outputs": [],
   "source": [
    "text_data_mandarin_clean = []"
   ]
  },
  {
   "cell_type": "code",
   "execution_count": 13,
   "metadata": {},
   "outputs": [],
   "source": [
    "for sentence in text_data_mandarin_split:\n",
    "    temp_list = []\n",
    "    for word in sentence:\n",
    "        if '|' in word:\n",
    "            word = word.rsplit(\"|\")[1]\n",
    "        if '=' in word:\n",
    "            word = word.rsplit(\"=\")[1]\n",
    "        if '&' in word:\n",
    "            word = word[:word.index('&')]\n",
    "        if '-' in word:\n",
    "            word = word[:word.index('-')]\n",
    "        if '_' in word:\n",
    "            word = ' '.join(word.split('_'))\n",
    "        temp_list.append(word)\n",
    "    text_data_mandarin_clean.append(temp_list)"
   ]
  },
  {
   "cell_type": "code",
   "execution_count": 14,
   "metadata": {},
   "outputs": [
    {
     "data": {
      "text/plain": [
       "[['again', 'object marker', 'mother', 'de', 'speak', 'again'],\n",
       " ['tool', 'at', 'which', 'side', 'a1'],\n",
       " ['little little', 'great', 'kid', 'object marker', 'door', 'open'],\n",
       " ['small',\n",
       "  'small',\n",
       "  'great',\n",
       "  'kid',\n",
       "  'object marker',\n",
       "  'door',\n",
       "  'open',\n",
       "  'open',\n",
       "  'go out',\n",
       "  'one',\n",
       "  'only',\n",
       "  'small',\n",
       "  'gold',\n",
       "  'door',\n",
       "  'immediately',\n",
       "  'become',\n",
       "  'fat',\n",
       "  'cm',\n",
       "  'flute',\n",
       "  'flute',\n",
       "  'flute',\n",
       "  'jump',\n",
       "  'stand up'],\n",
       " ['I',\n",
       "  'de',\n",
       "  'good',\n",
       "  'mother',\n",
       "  'get off',\n",
       "  'back',\n",
       "  'up until',\n",
       "  'family',\n",
       "  'work',\n",
       "  'le',\n",
       "  'one',\n",
       "  'how',\n",
       "  'cause hardship',\n",
       "  'le',\n",
       "  'mother',\n",
       "  'quickly',\n",
       "  'sit',\n",
       "  'go down',\n",
       "  'mother',\n",
       "  'quickly',\n",
       "  'sit',\n",
       "  'go down',\n",
       "  'request',\n",
       "  'drink',\n",
       "  'one',\n",
       "  'tea',\n",
       "  'allow',\n",
       "  'I',\n",
       "  'kiss',\n",
       "  'you',\n",
       "  'ba',\n",
       "  'allow',\n",
       "  'I',\n",
       "  'kiss',\n",
       "  'you',\n",
       "  'ba',\n",
       "  'I',\n",
       "  'de',\n",
       "  'good',\n",
       "  'mother'],\n",
       " ['tool', 'at', 'which', 'ne'],\n",
       " ['originally', 'at', 'here'],\n",
       " ['originally', 'at', 'here', 'a1'],\n",
       " ['originally', 'at', 'here', 'a1'],\n",
       " ['this', 'apple', 'is', 'at', 'here', 'ma']]"
      ]
     },
     "execution_count": 14,
     "metadata": {},
     "output_type": "execute_result"
    }
   ],
   "source": [
    "text_data_mandarin_clean[:10]"
   ]
  },
  {
   "cell_type": "markdown",
   "metadata": {},
   "source": [
    "### Task 5\n",
    "For each preposition create a list of the words within a 4 words window of the preposition,\n",
    "without the preposition itself (4 words before and 4 words after the preposition)."
   ]
  },
  {
   "cell_type": "code",
   "execution_count": 15,
   "metadata": {},
   "outputs": [
    {
     "data": {
      "text/plain": [
       "['object marker',\n",
       " 'at',\n",
       " 'up until',\n",
       " 'for',\n",
       " 'when',\n",
       " 'go toward',\n",
       " 'according to',\n",
       " 'compared with',\n",
       " 'from',\n",
       " 'depend on']"
      ]
     },
     "execution_count": 15,
     "metadata": {},
     "output_type": "execute_result"
    }
   ],
   "source": [
    "prepositions = list(dict.fromkeys(prepositions))\n",
    "prepositions[:10]"
   ]
  },
  {
   "cell_type": "code",
   "execution_count": 16,
   "metadata": {},
   "outputs": [],
   "source": [
    "text_data_mandarin_clean_final = []\n",
    "preposition_list = []\n",
    "\n",
    "for sentence in range(len(text_data_mandarin_clean)):\n",
    "    for word in text_data_mandarin_clean[sentence]:\n",
    "        if word in prepositions:\n",
    "            left, prep, right = ' '.join(text_data_mandarin_clean[sentence]).partition(word)\n",
    "            l = left.split()\n",
    "            l.reverse()\n",
    "            l = l[:4]\n",
    "            l.reverse()\n",
    "            temp_list = l + right.split()[:4]\n",
    "            text_data_mandarin_clean_final.append(temp_list)\n",
    "            preposition_list.append(prep)"
   ]
  },
  {
   "cell_type": "code",
   "execution_count": 17,
   "metadata": {},
   "outputs": [
    {
     "data": {
      "text/plain": [
       "[['again', 'mother', 'de', 'speak', 'again'],\n",
       " ['tool', 'which', 'side', 'a1'],\n",
       " ['little', 'little', 'great', 'kid', 'door', 'open'],\n",
       " ['small', 'small', 'great', 'kid', 'door', 'open', 'open', 'go'],\n",
       " ['mother', 'get', 'off', 'back', 'family', 'work', 'le', 'one'],\n",
       " ['tool', 'which', 'ne'],\n",
       " ['originally', 'here'],\n",
       " ['originally', 'here', 'a1'],\n",
       " ['originally', 'here', 'a1'],\n",
       " ['this', 'apple', 'is', 'here', 'ma']]"
      ]
     },
     "execution_count": 17,
     "metadata": {},
     "output_type": "execute_result"
    }
   ],
   "source": [
    "text_data_mandarin_clean_final[:10]"
   ]
  },
  {
   "cell_type": "code",
   "execution_count": 18,
   "metadata": {},
   "outputs": [],
   "source": [
    "# save the list\n",
    "with open('Mandarin-L1-Final.pk', 'wb') as f:\n",
    "    pickle.dump(text_data_mandarin_clean_final, f)\n",
    "    \n",
    "with open('Mandarin-L1-Prepositions.pk', 'wb') as f:\n",
    "    pickle.dump(preposition_list, f)"
   ]
  },
  {
   "cell_type": "code",
   "execution_count": null,
   "metadata": {},
   "outputs": [],
   "source": []
  }
 ],
 "metadata": {
  "kernelspec": {
   "display_name": "Python 3",
   "language": "python",
   "name": "python3"
  },
  "language_info": {
   "codemirror_mode": {
    "name": "ipython",
    "version": 3
   },
   "file_extension": ".py",
   "mimetype": "text/x-python",
   "name": "python",
   "nbconvert_exporter": "python",
   "pygments_lexer": "ipython3",
   "version": "3.6.9"
  }
 },
 "nbformat": 4,
 "nbformat_minor": 4
}
